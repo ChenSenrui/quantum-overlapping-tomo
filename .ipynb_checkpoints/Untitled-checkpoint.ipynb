{
 "cells": [
  {
   "cell_type": "code",
   "execution_count": 2,
   "metadata": {},
   "outputs": [
    {
     "name": "stderr",
     "output_type": "stream",
     "text": [
      "C:\\Program Files (x86)\\Microsoft Visual Studio\\Shared\\Anaconda3_64\\lib\\site-packages\\qiskit\\providers\\ibmq\\ibmqfactory.py:181: UserWarning: Credentials are already in use. The existing account in the session will be replaced.\n",
      "  warnings.warn('Credentials are already in use. The existing '\n"
     ]
    },
    {
     "name": "stdout",
     "output_type": "stream",
     "text": [
      "drawing circuist\n"
     ]
    }
   ],
   "source": [
    "import qiskit\n",
    "from qiskit import IBMQ\n",
    "from qiskit import QuantumCircuit, ClassicalRegister, QuantumRegister\n",
    "from math import log2, ceil\n",
    "\n",
    "# custom imports \n",
    "from create_ghz_circuit import create_ghz_circuit\n",
    "\n",
    "IBMQ.load_account()\n",
    "provider = IBMQ.get_provider(hub='ibm-q-community', group='hackathon', project='tokyo-nov-2019')\n",
    "\n",
    "# number of qubits   \n",
    "n = 4\n",
    "\n",
    "# connections for graph state\n",
    "edges = []\n",
    "for i in range(n-1):\n",
    "    edges.append([i,i+1])\n",
    "\n",
    "quantum_circuit = create_ghz_circuit(edges)\n",
    "print(\"drawing circuits\")\n",
    "quantum_circuit.draw()\n",
    "print(\"finished drawing circuits\")\n",
    "\n",
    "# global hash function    \n",
    "hash_functions = []\n",
    "# here we assume powers of 2\n",
    "num_func = ceil(log2(n)) \n",
    "\n",
    "# populates hash table\n",
    "for i in range(num_func):\n",
    "    temp_list = []\n",
    "    for j in range(n):\n",
    "        # checks if i'th bit is set in j \n",
    "        if j & (1 << i):\n",
    "            temp_list.append(1)\n",
    "        else:\n",
    "            temp_list.append(0)\n",
    "    hash_functions.append(temp_list)\n",
    "\n",
    "# print(hash_functions)\n",
    "\n",
    "\n",
    "\n",
    "    \n",
    "    "
   ]
  },
  {
   "cell_type": "code",
   "execution_count": null,
   "metadata": {
    "collapsed": true
   },
   "outputs": [],
   "source": []
  }
 ],
 "metadata": {
  "kernelspec": {
   "display_name": "Python 3",
   "language": "python",
   "name": "python3"
  },
  "language_info": {
   "codemirror_mode": {
    "name": "ipython",
    "version": 3
   },
   "file_extension": ".py",
   "mimetype": "text/x-python",
   "name": "python",
   "nbconvert_exporter": "python",
   "pygments_lexer": "ipython3",
   "version": "3.6.2"
  }
 },
 "nbformat": 4,
 "nbformat_minor": 2
}
